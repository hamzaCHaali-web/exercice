{
  "cells": [
    {
      "cell_type": "markdown",
      "metadata": {
        "id": "view-in-github",
        "colab_type": "text"
      },
      "source": [
        "<a href=\"https://colab.research.google.com/github/hamzaCHaali-web/exercice/blob/main/exercice.ipynb\" target=\"_parent\"><img src=\"https://colab.research.google.com/assets/colab-badge.svg\" alt=\"Open In Colab\"/></a>"
      ]
    },
    {
      "cell_type": "markdown",
      "source": [
        "Ex16"
      ],
      "metadata": {
        "id": "QbijV1zMDdOO"
      }
    },
    {
      "cell_type": "markdown",
      "source": [
        "SUITE Somme S=1+1/2+...+1/n"
      ],
      "metadata": {
        "id": "XOOOWS92Dqcj"
      }
    },
    {
      "cell_type": "code",
      "execution_count": null,
      "metadata": {
        "colab": {
          "base_uri": "https://localhost:8080/"
        },
        "id": "7mZWQNJazqhj",
        "outputId": "e3ebc637-c294-48a9-ad0b-88e87c96aca8"
      },
      "outputs": [
        {
          "output_type": "stream",
          "name": "stdout",
          "text": [
            "Entry le numbre .100\n",
            "0.688172179310195\n"
          ]
        }
      ],
      "source": [
        "n=int(input(\"Entry le numbre .\"))\n",
        "s=0\n",
        "for i in range(1,n+1):\n",
        "  term= ((-1) ** (i + 1)) / i\n",
        "  s+=term\n",
        "print(s)\n",
        "\n"
      ]
    },
    {
      "cell_type": "markdown",
      "source": [
        "Suite Somme de S= 1-2+3-4+5-6+...-+*n*"
      ],
      "metadata": {
        "id": "rTiOJ6dAJXWc"
      }
    },
    {
      "cell_type": "code",
      "source": [
        "n=int(input(\"Entry le numbre .\"))\n",
        "s=0\n",
        "for i in range(1,n+1):\n",
        "  term= ((-1) ** (i + 1))*i\n",
        "  s+=term\n",
        "print(s)"
      ],
      "metadata": {
        "colab": {
          "base_uri": "https://localhost:8080/"
        },
        "id": "F5KuAWfdJnWO",
        "outputId": "34c8214f-24c9-40a5-b2d8-e8da41a5df9c"
      },
      "execution_count": null,
      "outputs": [
        {
          "output_type": "stream",
          "name": "stdout",
          "text": [
            "Entry le numbre .6\n",
            "-3\n"
          ]
        }
      ]
    },
    {
      "cell_type": "markdown",
      "source": [
        "Suite Somme de S= 1²-2²+3²-4²+5²-6²+...-+*n²*\n",
        "\n"
      ],
      "metadata": {
        "id": "SxqcQitFKQF9"
      }
    },
    {
      "cell_type": "code",
      "source": [
        "n=int(input(\"Entry le numbre .\"))\n",
        "s=0\n",
        "for i in range(1,n+1):\n",
        "  term= ((-1) ** (i + 1))*(i**2)\n",
        "  s+=term\n",
        "print(s)"
      ],
      "metadata": {
        "colab": {
          "base_uri": "https://localhost:8080/"
        },
        "id": "57JtKsQXK81s",
        "outputId": "e22cef10-4929-4da4-aaf1-6cb748595ca6"
      },
      "execution_count": null,
      "outputs": [
        {
          "output_type": "stream",
          "name": "stdout",
          "text": [
            "Entry le numbre .6\n",
            "-21\n"
          ]
        }
      ]
    },
    {
      "cell_type": "markdown",
      "source": [
        "Suite Somme de S= 1*2-2*3+3*4-4*5+5*6-6*7+...+-n(n+1)\n"
      ],
      "metadata": {
        "id": "99ee9z7fMXee"
      }
    },
    {
      "cell_type": "code",
      "source": [
        "n=int(input(\"Entry le numbre .\"))\n",
        "s=0\n",
        "for i in range(1,n+1):\n",
        "  term= (i*((-1)**(i+1)))*(i+1)\n",
        "  s+=term\n",
        "print(s)"
      ],
      "metadata": {
        "colab": {
          "base_uri": "https://localhost:8080/"
        },
        "id": "mwB-l8iVL8He",
        "outputId": "bff6304e-7eb4-46a9-d343-0060a3e6b2b6"
      },
      "execution_count": null,
      "outputs": [
        {
          "output_type": "stream",
          "name": "stdout",
          "text": [
            "Entry le numbre .4\n",
            "-12\n"
          ]
        }
      ]
    },
    {
      "cell_type": "markdown",
      "source": [
        "S=1-3+5-7...n"
      ],
      "metadata": {
        "id": "FF1LFSD9OmbH"
      }
    },
    {
      "cell_type": "code",
      "source": [
        "n=int(input(\"Entry le numbre .\"))\n",
        "s=0\n",
        "for i in range(1,n+1):\n",
        "  term= (2*i-1)*((-1)**(i+1))\n",
        "  s+=term\n",
        "print(s)"
      ],
      "metadata": {
        "colab": {
          "base_uri": "https://localhost:8080/"
        },
        "id": "i29g8I8AOuVM",
        "outputId": "273dd7ad-c8a8-4217-d115-211881dfbc90"
      },
      "execution_count": null,
      "outputs": [
        {
          "output_type": "stream",
          "name": "stdout",
          "text": [
            "Entry le numbre .5\n",
            "5\n"
          ]
        }
      ]
    },
    {
      "cell_type": "markdown",
      "source": [
        "PARTE 2 LES TABLEUS ET LES CHINE"
      ],
      "metadata": {
        "id": "jT1h-ivDQwmU"
      }
    },
    {
      "cell_type": "markdown",
      "source": [
        "EX2"
      ],
      "metadata": {
        "id": "qutxUBMWQ7zc"
      }
    },
    {
      "cell_type": "code",
      "source": [
        "L=[1,2,3,4]\n",
        "L2= L[::] #\\\\ or L.copy()\n",
        "L2.reverse()\n",
        "print(f\"Avant : {L} Après : {L2}\")"
      ],
      "metadata": {
        "colab": {
          "base_uri": "https://localhost:8080/"
        },
        "id": "DkHbkrofQ7i9",
        "outputId": "6d6cf656-543a-4b41-f6e6-f8c69223b26c"
      },
      "execution_count": null,
      "outputs": [
        {
          "output_type": "stream",
          "name": "stdout",
          "text": [
            "Avant : [1, 2, 3, 4] Après : [4, 3, 2, 1]\n"
          ]
        }
      ]
    },
    {
      "cell_type": "markdown",
      "source": [
        "EX3\n"
      ],
      "metadata": {
        "id": "BeEHNeUAST_Z"
      }
    },
    {
      "cell_type": "code",
      "source": [
        "Array = [1,2,3,4,5,6,7,8,9]\n",
        "X=int(input(\"Entry le numbre .\"))\n",
        "for i in range(len(Array)):\n",
        "  if Array[i]==X:\n",
        "    print(f\"L'index de {X} est {i}\")"
      ],
      "metadata": {
        "colab": {
          "base_uri": "https://localhost:8080/"
        },
        "id": "PVLOWx2DSTKd",
        "outputId": "ce4da93d-6f24-4057-d7d2-4f1b199a0a06"
      },
      "execution_count": null,
      "outputs": [
        {
          "output_type": "stream",
          "name": "stdout",
          "text": [
            "Entry le numbre .3\n",
            "L'index de 3 est 2\n",
            "L'index de 3 est 3\n"
          ]
        }
      ]
    },
    {
      "cell_type": "markdown",
      "source": [
        "EX4\n"
      ],
      "metadata": {
        "id": "KVEjv5syTA4P"
      }
    },
    {
      "cell_type": "code",
      "source": [
        "a=[4,5]\n",
        "b=[1,2,3]\n",
        "c=b+a\n",
        "print(c)"
      ],
      "metadata": {
        "colab": {
          "base_uri": "https://localhost:8080/"
        },
        "id": "BezJv8FXTDdT",
        "outputId": "0ba0311b-e452-42d0-8799-aa4b1639d93e"
      },
      "execution_count": null,
      "outputs": [
        {
          "output_type": "stream",
          "name": "stdout",
          "text": [
            "[1, 2, 3, 4, 5]\n"
          ]
        }
      ]
    },
    {
      "cell_type": "markdown",
      "source": [
        "\n",
        "EX5\n",
        "\n",
        "\n"
      ],
      "metadata": {
        "id": "ZmmVYd_qEHMX"
      }
    },
    {
      "cell_type": "code",
      "source": [
        "n = int(input(\"Entrez le nombre d'elements du tableau: \"))\n",
        "\n",
        "tableau = []\n",
        "for i in range(n):\n",
        "    val = int(input(f\"Entrez l'element {i+1}: \"))\n",
        "    tableau.append(val)\n",
        "print(\"\\nTableau avant tri:\", tableau)\n",
        "print(\"Tableau apres tri:\", sorted(tableau))\n",
        "#Array 6 items\n",
        "print(\"Initial Array :\",tableau)\n",
        "print(\"Sorted start :\")0\n",
        "for i in range(len(tableau)-1):\n",
        "  for j in range(len(tableau)-1):\n",
        "    # print(f\"{numbers[j]} |{numbers[j+1]}\")\n",
        "    if tableau[j]>tableau[j+1]:\n",
        "      tableau[j],tableau[j+1]=tableau[j+1],tableau[j]\n",
        "print(tableau)\n",
        "      # print(numbers[i]>numbers[i+1])\n",
        "\n",
        "\n"
      ],
      "metadata": {
        "colab": {
          "base_uri": "https://localhost:8080/"
        },
        "id": "fnJFafXDERt2",
        "outputId": "5145a913-6405-499b-967b-b0dbca9e21d0"
      },
      "execution_count": 33,
      "outputs": [
        {
          "output_type": "stream",
          "name": "stdout",
          "text": [
            "Entrez le nombre d'elements du tableau: 6\n",
            "Entrez l'element 1: 9\n",
            "Entrez l'element 2: 4\n",
            "Entrez l'element 3: 0\n",
            "Entrez l'element 4: -60\n",
            "Entrez l'element 5: 3\n",
            "Entrez l'element 6: 3\n",
            "\n",
            "Tableau avant tri: [9, 4, 0, -60, 3, 3]\n",
            "Tableau apres tri: [-60, 0, 3, 3, 4, 9]\n",
            "Initial Array : [9, 4, 0, -60, 3, 3]\n",
            "Sorted start :\n",
            "[-60, 0, 3, 3, 4, 9]\n"
          ]
        }
      ]
    },
    {
      "cell_type": "markdown",
      "source": [
        "Exercices sur les chaines de caractères :"
      ],
      "metadata": {
        "id": "Iqwv9z6tkeVa"
      }
    },
    {
      "cell_type": "markdown",
      "source": [
        "Exercice 1:"
      ],
      "metadata": {
        "id": "G4uwqMt9qxPI"
      }
    },
    {
      "cell_type": "code",
      "source": [
        "text=\"\"\"Le dimanche 19 juin, Radio France mettra en vente une partie de sa collection de vinyles. Au total, 8000 disques seront mis en vente lors d'une vente aux enchères.\n",
        "\n",
        "Cette vente intéressera les collectionneurs comme les curieux, les sampleurs comme les nostalgiques.\n",
        "\n",
        "Parmi les lots proposés, des bandes originales de films dont certaines sont rarissimes (les bandes originales de films sont rassemblées dans les lots 48 à 85 )\n",
        "\n",
        "Concernant le jazz,  tout y est ! De John Coltrane à Miles Davis en passant par Billie Holliday,  Thelonious Monk et tant d'autres !\n",
        "\n",
        "Des lots de rap pourront également retenir votre attention avec notamment Planète Mars d'IAM, Paul's Boutique des Beastie Boys ou encore Amerikka's Most Wanted d'Ice Cube.\"\"\"\n",
        "count=0\n",
        "for i in text :\n",
        "  if(i):\n",
        "    count+=1\n",
        "print(f\"Le nombre de caractère dans le text est : {count}\")\n",
        "\n",
        "print(len(text))"
      ],
      "metadata": {
        "colab": {
          "base_uri": "https://localhost:8080/"
        },
        "id": "rl6S5DNVqueD",
        "outputId": "9068a6c1-666f-42ab-e304-cf529d0a5bcb"
      },
      "execution_count": 58,
      "outputs": [
        {
          "output_type": "stream",
          "name": "stdout",
          "text": [
            "Le nombre de caractère dans le text est : 733\n",
            "733\n"
          ]
        }
      ]
    },
    {
      "cell_type": "markdown",
      "source": [
        "Exercice 2:"
      ],
      "metadata": {
        "id": "euzfK7rjkyPq"
      }
    },
    {
      "cell_type": "code",
      "source": [
        "voyelles = [['a',0], ['e',0],[ 'i',0],['o',0], ['u',0],['y',0]]\n",
        "text=\"\"\"Le dimanche 19 juin, Radio France mettra en vente une partie de sa collection de vinyles. Au total, 8000 disques seront mis en vente lors d'une vente aux enchères.\n",
        "\n",
        "Cette vente intéressera les collectionneurs comme les curieux, les sampleurs comme les nostalgiques.\n",
        "\n",
        "Parmi les lots proposés, des bandes originales de films dont certaines sont rarissimes (les bandes originales de films sont rassemblées dans les lots 48 à 85 )\n",
        "\n",
        "Concernant le jazz,  tout y est ! De John Coltrane à Miles Davis en passant par Billie Holliday,  Thelonious Monk et tant d'autres !\n",
        "\n",
        "Des lots de rap pourront également retenir votre attention avec notamment Planète Mars d'IAM, Paul's Boutique des Beastie Boys ou encore Amerikka's Most Wanted d'Ice Cube.\"\"\"\n",
        "\n",
        "for i in range(len(voyelles)):\n",
        "  for j in text:\n",
        "    if voyelles[i][0] ==j:\n",
        "       voyelles[i][1]+=1\n",
        "print(\"List des voyelles dan le text est :\\n\")\n",
        "for t in range(len(voyelles)):\n",
        "    print(f\"{voyelles[t][0]} ==> {voyelles[t][1]}\")"
      ],
      "metadata": {
        "colab": {
          "base_uri": "https://localhost:8080/"
        },
        "id": "82OdkVTXkzKj",
        "outputId": "4f80aaac-c574-4af0-ac2d-1cf9279f4079"
      },
      "execution_count": 56,
      "outputs": [
        {
          "output_type": "stream",
          "name": "stdout",
          "text": [
            "List des voyelles dan le text est :\n",
            "\n",
            "a ==> 41\n",
            "e ==> 87\n",
            "i ==> 33\n",
            "o ==> 39\n",
            "u ==> 20\n",
            "y ==> 4\n"
          ]
        }
      ]
    },
    {
      "cell_type": "markdown",
      "source": [
        "**Ex 3:**\n"
      ],
      "metadata": {
        "id": "7IfKtCczrU_Q"
      }
    },
    {
      "cell_type": "code",
      "source": [
        "text = \"Python\"\n",
        "chars = list(text)  # ['P', 'y', 't', 'h', 'o', 'n']\n",
        "\n",
        "for i in range(len(chars) // 2):\n",
        "    chars[i], chars[-1 - i] = chars[-1 - i], chars[i]\n",
        "\n",
        "text = ''.join(chars)\n",
        "print(text)\n",
        " #ou print(text[::-1])"
      ],
      "metadata": {
        "colab": {
          "base_uri": "https://localhost:8080/"
        },
        "id": "2r9q2zwDrSax",
        "outputId": "95533c2c-07db-4e67-a2af-0a1f4026ada2"
      },
      "execution_count": 65,
      "outputs": [
        {
          "output_type": "stream",
          "name": "stdout",
          "text": [
            "nohtyP\n"
          ]
        }
      ]
    },
    {
      "cell_type": "markdown",
      "source": [
        "EX4 :"
      ],
      "metadata": {
        "id": "us0st6DosttR"
      }
    },
    {
      "cell_type": "code",
      "source": [
        "text = input(\"Entre la chaine\")\n",
        "chars = list(text)  # ['P', 'y', 't', 'h', 'o', 'n']\n",
        "\n",
        "for i in range(len(chars) // 2):\n",
        "    chars[i], chars[-1 - i] = chars[-1 - i], chars[i]\n",
        "\n",
        "textEdit = ''.join(chars)\n",
        "if(text==textEdit):\n",
        "  print(f\"Le text {text}  est Palindrome .\")\n",
        "else:\n",
        "  print(f\"Le text {text}  n'est pas Palindrome .\")"
      ],
      "metadata": {
        "colab": {
          "base_uri": "https://localhost:8080/"
        },
        "id": "lJ3ibz-kstcM",
        "outputId": "5cb67d41-4723-4056-91b1-4b5f6aca5836"
      },
      "execution_count": 67,
      "outputs": [
        {
          "output_type": "stream",
          "name": "stdout",
          "text": [
            "Le text radar  est Palindrome .\n"
          ]
        }
      ]
    },
    {
      "cell_type": "markdown",
      "source": [
        "Exercice 5:\n"
      ],
      "metadata": {
        "id": "m7aBwR7stV7h"
      }
    },
    {
      "cell_type": "code",
      "source": [
        "text = \"banane\"\n",
        "character = \"a\"\n",
        "count=0\n",
        "for  i in text:\n",
        "  if i ==character:\n",
        "    count +=1\n",
        "print(f\"{character} ===> {count}\")"
      ],
      "metadata": {
        "colab": {
          "base_uri": "https://localhost:8080/"
        },
        "id": "VBmB1WWBtZ1j",
        "outputId": "6d8e0566-13c4-4efc-937e-f462820b8936"
      },
      "execution_count": 71,
      "outputs": [
        {
          "output_type": "stream",
          "name": "stdout",
          "text": [
            "a ===> 2\n"
          ]
        }
      ]
    },
    {
      "cell_type": "markdown",
      "source": [
        "Exercice 6:\n"
      ],
      "metadata": {
        "id": "PglW7oMluW7D"
      }
    },
    {
      "cell_type": "code",
      "source": [
        "texte = input(\"Entrer la chaine : \")\n",
        "n = int(input(\"Entrer le decalage : \"))\n",
        "resultat = \"\"\n",
        "for caractere in texte:\n",
        "    if 'a' <= caractere <= 'z':\n",
        "        chiffre = chr((ord(caractere) - 97 + n) % 26 + 97)\n",
        "        resultat += chiffre\n",
        "    else:\n",
        "        resultat += caractere\n",
        "\n",
        "print(\"Resultat :\", resultat)\n"
      ],
      "metadata": {
        "colab": {
          "base_uri": "https://localhost:8080/"
        },
        "id": "Gki7T0LJuXzS",
        "outputId": "20527064-f726-4b4f-9130-0467db911cad"
      },
      "execution_count": 78,
      "outputs": [
        {
          "output_type": "stream",
          "name": "stdout",
          "text": [
            "Entrer la chaine : uyeqoyzcoqazcqiqososqkskoqyiqoyhwvtp\n",
            "Entrer le decalage : 6\n",
            "Resultat : aekwuefiuwgfiwowuyuywqyquweowuencbzv\n"
          ]
        }
      ]
    },
    {
      "cell_type": "markdown",
      "source": [
        "EX7:"
      ],
      "metadata": {
        "id": "eq-cWaZMvN9x"
      }
    },
    {
      "cell_type": "code",
      "source": [
        "texte = input(\"Entrer la chaine : \")\n",
        "n = int(input(\"Entrer le decalage : \"))\n",
        "resultat = \"\"\n",
        "for caractere in texte:\n",
        "    if 'a' <= caractere <= 'z':\n",
        "        chiffre = chr((ord(caractere) - 97 - n) % 26 + 97)\n",
        "        resultat += chiffre\n",
        "    else:\n",
        "        resultat += caractere\n",
        "\n",
        "print(\"Resultat :\", resultat)"
      ],
      "metadata": {
        "colab": {
          "base_uri": "https://localhost:8080/"
        },
        "id": "BPuGxQIUvRkB",
        "outputId": "2934b0b5-ec48-4024-ef2a-56acdc81a39e"
      },
      "execution_count": 77,
      "outputs": [
        {
          "output_type": "stream",
          "name": "stdout",
          "text": [
            "Entrer la chaine : aekwuefiuwgfiwowuyuywqyquweowuencbzv\n",
            "Entrer le decalage : 6\n",
            "Resultat : uyeqoyzcoqazcqiqososqkskoqyiqoyhwvtp\n"
          ]
        }
      ]
    },
    {
      "cell_type": "markdown",
      "source": [
        "Exercice 8 : Cryptage par code ASCII\n"
      ],
      "metadata": {
        "id": "OkCxE46xx9pf"
      }
    },
    {
      "cell_type": "code",
      "source": [
        "texte = input(\"Entrer la chaine : \")\n",
        "crypted=\"\"\n",
        "for i in text:\n",
        "  crypted +=f\"{ord(i)} \"\n",
        "print(crypted)"
      ],
      "metadata": {
        "colab": {
          "base_uri": "https://localhost:8080/"
        },
        "id": "1hjSLHNgx_Dv",
        "outputId": "87a6d01c-39f0-4369-e2e1-8e58a63a2874"
      },
      "execution_count": 79,
      "outputs": [
        {
          "output_type": "stream",
          "name": "stdout",
          "text": [
            "Entrer la chaine : abxed\n",
            "98 97 110 97 110 101 \n"
          ]
        }
      ]
    },
    {
      "cell_type": "markdown",
      "source": [
        "Exercice 9 :\n"
      ],
      "metadata": {
        "id": "bMnIS9hNy03W"
      }
    },
    {
      "cell_type": "code",
      "source": [
        "texte = input(\"Entrer la chaine : \")\n",
        "n = int(input(\"Entrer le decalage : \"))\n",
        "resultat = \"\"\n",
        "for caractere in texte:\n",
        "    if 'a' <= caractere <= 'z':\n",
        "        chiffre = chr((ord(caractere) - 97 + n) % 26 + 97)\n",
        "        resultat += chiffre\n",
        "    elif 'A' <= caractere <= 'Z':\n",
        "      chiffre = chr((ord(caractere) - 65 + n) % 26 + 65)\n",
        "    else:\n",
        "        resultat += caractere\n",
        "\n",
        "print(\"Resultat :\", resultat)"
      ],
      "metadata": {
        "colab": {
          "base_uri": "https://localhost:8080/"
        },
        "id": "Xr03Sp_sy2Gd",
        "outputId": "0ca0ce40-ca4e-4570-84a8-41713f779f85"
      },
      "execution_count": 80,
      "outputs": [
        {
          "output_type": "stream",
          "name": "stdout",
          "text": [
            "Entrer la chaine : Amvodo[d\n",
            "Entrer le decalage : 3\n",
            "Resultat : pyrgr[g\n"
          ]
        }
      ]
    },
    {
      "cell_type": "markdown",
      "source": [
        "Exercice 10 :\n"
      ],
      "metadata": {
        "id": "4MqpEPclzSkC"
      }
    },
    {
      "cell_type": "code",
      "source": [
        "voyelle_chiffree = [\n",
        "    [\"a\", 1],\n",
        "    [\"e\", 2],\n",
        "    [\"i\", 3],\n",
        "    [\"o\", 4],\n",
        "    [\"u\", 5]\n",
        "]\n",
        "chain=input(\"Entre la Chaine :\")\n",
        "for i in range(len(voyelle_chiffree)):\n",
        "  for j in chain:\n",
        "    if voyelle_chiffree[i][0] ==j:\n",
        "       chain=chain.replace(j,str(voyelle_chiffree[i][1]))\n",
        "print(chain)"
      ],
      "metadata": {
        "colab": {
          "base_uri": "https://localhost:8080/"
        },
        "id": "s8wm6cSw0uyX",
        "outputId": "f085c413-c8f0-4ca5-a34b-683084706fb1"
      },
      "execution_count": 82,
      "outputs": [
        {
          "output_type": "stream",
          "name": "stdout",
          "text": [
            "Entre la Chaine :bonjour\n",
            "b4nj45r\n"
          ]
        }
      ]
    }
  ],
  "metadata": {
    "colab": {
      "provenance": [],
      "authorship_tag": "ABX9TyPfxom+ZkxKfU9YC8ImOQPL",
      "include_colab_link": true
    },
    "kernelspec": {
      "display_name": "Python 3",
      "name": "python3"
    },
    "language_info": {
      "name": "python"
    }
  },
  "nbformat": 4,
  "nbformat_minor": 0
}