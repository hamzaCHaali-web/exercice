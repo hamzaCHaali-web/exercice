{
  "cells": [
    {
      "cell_type": "markdown",
      "metadata": {
        "id": "view-in-github",
        "colab_type": "text"
      },
      "source": [
        "<a href=\"https://colab.research.google.com/github/hamzaCHaali-web/exercice/blob/main/exercice.ipynb\" target=\"_parent\"><img src=\"https://colab.research.google.com/assets/colab-badge.svg\" alt=\"Open In Colab\"/></a>"
      ]
    },
    {
      "cell_type": "markdown",
      "source": [
        "Ex16"
      ],
      "metadata": {
        "id": "QbijV1zMDdOO"
      }
    },
    {
      "cell_type": "markdown",
      "source": [
        "SUITE Somme S=1+1/2+...+1/n"
      ],
      "metadata": {
        "id": "XOOOWS92Dqcj"
      }
    },
    {
      "cell_type": "code",
      "execution_count": 5,
      "metadata": {
        "colab": {
          "base_uri": "https://localhost:8080/"
        },
        "id": "7mZWQNJazqhj",
        "outputId": "e3ebc637-c294-48a9-ad0b-88e87c96aca8"
      },
      "outputs": [
        {
          "output_type": "stream",
          "name": "stdout",
          "text": [
            "Entry le numbre .100\n",
            "0.688172179310195\n"
          ]
        }
      ],
      "source": [
        "n=int(input(\"Entry le numbre .\"))\n",
        "s=0\n",
        "for i in range(1,n+1):\n",
        "  term= ((-1) ** (i + 1)) / i\n",
        "  s+=term\n",
        "print(s)\n",
        "\n"
      ]
    },
    {
      "cell_type": "markdown",
      "source": [
        "Suite Somme de S= 1-2+3-4+5-6+...-+*n*"
      ],
      "metadata": {
        "id": "rTiOJ6dAJXWc"
      }
    },
    {
      "cell_type": "code",
      "source": [
        "n=int(input(\"Entry le numbre .\"))\n",
        "s=0\n",
        "for i in range(1,n+1):\n",
        "  term= ((-1) ** (i + 1))*i\n",
        "  s+=term\n",
        "print(s)"
      ],
      "metadata": {
        "colab": {
          "base_uri": "https://localhost:8080/"
        },
        "id": "F5KuAWfdJnWO",
        "outputId": "34c8214f-24c9-40a5-b2d8-e8da41a5df9c"
      },
      "execution_count": 8,
      "outputs": [
        {
          "output_type": "stream",
          "name": "stdout",
          "text": [
            "Entry le numbre .6\n",
            "-3\n"
          ]
        }
      ]
    },
    {
      "cell_type": "markdown",
      "source": [
        "Suite Somme de S= 1²-2²+3²-4²+5²-6²+...-+*n²*\n",
        "\n"
      ],
      "metadata": {
        "id": "SxqcQitFKQF9"
      }
    },
    {
      "cell_type": "code",
      "source": [
        "n=int(input(\"Entry le numbre .\"))\n",
        "s=0\n",
        "for i in range(1,n+1):\n",
        "  term= ((-1) ** (i + 1))*(i**2)\n",
        "  s+=term\n",
        "print(s)"
      ],
      "metadata": {
        "colab": {
          "base_uri": "https://localhost:8080/"
        },
        "id": "57JtKsQXK81s",
        "outputId": "e22cef10-4929-4da4-aaf1-6cb748595ca6"
      },
      "execution_count": 10,
      "outputs": [
        {
          "output_type": "stream",
          "name": "stdout",
          "text": [
            "Entry le numbre .6\n",
            "-21\n"
          ]
        }
      ]
    },
    {
      "cell_type": "markdown",
      "source": [
        "Suite Somme de S= 1*2-2*3+3*4-4*5+5*6-6*7+...+-n(n+1)\n"
      ],
      "metadata": {
        "id": "99ee9z7fMXee"
      }
    },
    {
      "cell_type": "code",
      "source": [
        "n=int(input(\"Entry le numbre .\"))\n",
        "s=0\n",
        "for i in range(1,n+1):\n",
        "  term= (i*((-1)**(i+1)))*(i+1)\n",
        "  s+=term\n",
        "print(s)"
      ],
      "metadata": {
        "colab": {
          "base_uri": "https://localhost:8080/"
        },
        "id": "mwB-l8iVL8He",
        "outputId": "bff6304e-7eb4-46a9-d343-0060a3e6b2b6"
      },
      "execution_count": 16,
      "outputs": [
        {
          "output_type": "stream",
          "name": "stdout",
          "text": [
            "Entry le numbre .4\n",
            "-12\n"
          ]
        }
      ]
    },
    {
      "cell_type": "markdown",
      "source": [
        "S=1-3+5-7...n"
      ],
      "metadata": {
        "id": "FF1LFSD9OmbH"
      }
    },
    {
      "cell_type": "code",
      "source": [
        "n=int(input(\"Entry le numbre .\"))\n",
        "s=0\n",
        "for i in range(1,n+1):\n",
        "  term= (2*i-1)*((-1)**(i+1))\n",
        "  s+=term\n",
        "print(s)"
      ],
      "metadata": {
        "colab": {
          "base_uri": "https://localhost:8080/"
        },
        "id": "i29g8I8AOuVM",
        "outputId": "273dd7ad-c8a8-4217-d115-211881dfbc90"
      },
      "execution_count": 20,
      "outputs": [
        {
          "output_type": "stream",
          "name": "stdout",
          "text": [
            "Entry le numbre .5\n",
            "5\n"
          ]
        }
      ]
    },
    {
      "cell_type": "markdown",
      "source": [
        "PARTE 2 LES TABLEUS ET LES CHINE"
      ],
      "metadata": {
        "id": "jT1h-ivDQwmU"
      }
    },
    {
      "cell_type": "markdown",
      "source": [
        "EX2"
      ],
      "metadata": {
        "id": "qutxUBMWQ7zc"
      }
    },
    {
      "cell_type": "code",
      "source": [
        "L=[1,2,3,4]\n",
        "L2= L[::] #\\\\ or L.copy()\n",
        "L2.reverse()\n",
        "print(f\"Avant : {L} Après : {L2}\")"
      ],
      "metadata": {
        "colab": {
          "base_uri": "https://localhost:8080/"
        },
        "id": "DkHbkrofQ7i9",
        "outputId": "6d6cf656-543a-4b41-f6e6-f8c69223b26c"
      },
      "execution_count": 29,
      "outputs": [
        {
          "output_type": "stream",
          "name": "stdout",
          "text": [
            "Avant : [1, 2, 3, 4] Après : [4, 3, 2, 1]\n"
          ]
        }
      ]
    },
    {
      "cell_type": "markdown",
      "source": [
        "EX3\n"
      ],
      "metadata": {
        "id": "BeEHNeUAST_Z"
      }
    },
    {
      "cell_type": "code",
      "source": [
        "Array = [1,2,3,4,5,6,7,8,9]\n",
        "X=int(input(\"Entry le numbre .\"))\n",
        "for i in range(len(Array)):\n",
        "  if Array[i]==X:\n",
        "    print(f\"L'index de {X} est {i}\")"
      ],
      "metadata": {
        "colab": {
          "base_uri": "https://localhost:8080/"
        },
        "id": "PVLOWx2DSTKd",
        "outputId": "ce4da93d-6f24-4057-d7d2-4f1b199a0a06"
      },
      "execution_count": 31,
      "outputs": [
        {
          "output_type": "stream",
          "name": "stdout",
          "text": [
            "Entry le numbre .3\n",
            "L'index de 3 est 2\n",
            "L'index de 3 est 3\n"
          ]
        }
      ]
    },
    {
      "cell_type": "markdown",
      "source": [
        "EX4\n"
      ],
      "metadata": {
        "id": "KVEjv5syTA4P"
      }
    },
    {
      "cell_type": "code",
      "source": [
        "a=[4,5]\n",
        "b=[1,2,3]\n",
        "c=b+a\n",
        "print(c)"
      ],
      "metadata": {
        "colab": {
          "base_uri": "https://localhost:8080/"
        },
        "id": "BezJv8FXTDdT",
        "outputId": "0ba0311b-e452-42d0-8799-aa4b1639d93e"
      },
      "execution_count": 34,
      "outputs": [
        {
          "output_type": "stream",
          "name": "stdout",
          "text": [
            "[1, 2, 3, 4, 5]\n"
          ]
        }
      ]
    }
  ],
  "metadata": {
    "colab": {
      "provenance": [],
      "authorship_tag": "ABX9TyNAXFA4Xx/qq9RkTP7Cqc/L",
      "include_colab_link": true
    },
    "kernelspec": {
      "display_name": "Python 3",
      "name": "python3"
    },
    "language_info": {
      "name": "python"
    }
  },
  "nbformat": 4,
  "nbformat_minor": 0
}